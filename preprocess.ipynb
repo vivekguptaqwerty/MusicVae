{
 "cells": [
  {
   "cell_type": "code",
   "execution_count": 3,
   "metadata": {},
   "outputs": [
    {
     "name": "stdout",
     "output_type": "stream",
     "text": [
      "  artist                   song                                        link  \\\n",
      "0   ABBA  Ahe's My Kind Of Girl  /a/abba/ahes+my+kind+of+girl_20598417.html   \n",
      "1   ABBA       Andante, Andante       /a/abba/andante+andante_20002708.html   \n",
      "2   ABBA         As Good As New        /a/abba/as+good+as+new_20003033.html   \n",
      "3   ABBA                   Bang                  /a/abba/bang_20598415.html   \n",
      "4   ABBA       Bang-A-Boomerang      /a/abba/bang+a+boomerang_20002668.html   \n",
      "\n",
      "                                                text  \n",
      "0  look at her face its a wonderful face  \\r\\nand...  \n",
      "1  take it easy with me please  \\r\\ntouch me gent...  \n",
      "2  ill never know why i had to go  \\r\\nwhy i had ...  \n",
      "3  making somebody happy is a question of give an...  \n",
      "4  making somebody happy is a question of give an...  \n",
      "   Unnamed: 0           artist_name            track_name  release_date genre  \\\n",
      "0           0                mukesh  mohabbat bhi jhoothi          1950   pop   \n",
      "1           4         frankie laine             i believe          1950   pop   \n",
      "2           6           johnnie ray                   cry          1950   pop   \n",
      "3          10           pérez prado              patricia          1950   pop   \n",
      "4          12  giorgos papadopoulos    apopse eida oneiro          1950   pop   \n",
      "\n",
      "                                              lyrics  len    dating  violence  \\\n",
      "0  hold time feel break feel untrue convince spea...   95  0.000598  0.063746   \n",
      "1  believe drop rain fall grow believe darkest ni...   51  0.035537  0.096777   \n",
      "2  sweetheart send letter goodbye secret feel bet...   24  0.002770  0.002770   \n",
      "3  kiss lips want stroll charm mambo chacha merin...   54  0.048249  0.001548   \n",
      "4  till darling till matter know till dream live ...   48  0.001350  0.001350   \n",
      "\n",
      "   world/life  ...   sadness  feelings  danceability  loudness  acousticness  \\\n",
      "0    0.000598  ...  0.380299  0.117175      0.357739  0.454119      0.997992   \n",
      "1    0.443435  ...  0.001284  0.001284      0.331745  0.647540      0.954819   \n",
      "2    0.002770  ...  0.002770  0.225422      0.456298  0.585288      0.840361   \n",
      "3    0.001548  ...  0.225889  0.001548      0.686992  0.744404      0.083935   \n",
      "4    0.417772  ...  0.068800  0.001350      0.291671  0.646489      0.975904   \n",
      "\n",
      "   instrumentalness   valence    energy       topic  age  \n",
      "0          0.901822  0.339448  0.137110     sadness  1.0  \n",
      "1          0.000002  0.325021  0.263240  world/life  1.0  \n",
      "2          0.000000  0.351814  0.139112       music  1.0  \n",
      "3          0.199393  0.775350  0.743736    romantic  1.0  \n",
      "4          0.000246  0.597073  0.394375    romantic  1.0  \n",
      "\n",
      "[5 rows x 31 columns]\n"
     ]
    }
   ],
   "source": [
    "# Cell 1: Import libraries\n",
    "import pandas as pd\n",
    "import numpy as np\n",
    "import re\n",
    "from sklearn.preprocessing import MinMaxScaler\n",
    "\n",
    "# Cell 2: Load datasets\n",
    "spotify_df = pd.read_csv('spotify_millsongdata.csv')\n",
    "music_df = pd.read_csv('tcc_ceds_music.csv')\n",
    "\n",
    "# Cell 3: Clean lyrics\n",
    "def clean_lyrics(text):\n",
    "    return re.sub(r'[^a-zA-Z\\s]', '', str(text).lower()).strip()\n",
    "\n",
    "spotify_df['text'] = spotify_df['text'].apply(clean_lyrics)\n",
    "music_df['lyrics'] = music_df['lyrics'].apply(clean_lyrics)\n",
    "\n",
    "# Cell 4: Preview\n",
    "print(spotify_df.head())\n",
    "print(music_df.head())"
   ]
  },
  {
   "cell_type": "code",
   "execution_count": 4,
   "metadata": {},
   "outputs": [
    {
     "name": "stdout",
     "output_type": "stream",
     "text": [
      "            sadness  danceability        energy\n",
      "count  28372.000000  28372.000000  28372.000000\n",
      "mean       0.131587      0.534298      0.569875\n",
      "std        0.184625      0.175307      0.244385\n",
      "min        0.000000      0.000000      0.000000\n",
      "25%        0.000876      0.412474      0.380361\n",
      "50%        0.005074      0.539625      0.580567\n",
      "75%        0.239342      0.659103      0.772766\n",
      "max        1.000000      1.000000      1.000000\n"
     ]
    }
   ],
   "source": [
    "# Cell: Normalize features\n",
    "from sklearn.preprocessing import MinMaxScaler\n",
    "\n",
    "scaler = MinMaxScaler()\n",
    "music_df[['sadness', 'danceability', 'energy']] = scaler.fit_transform(\n",
    "    music_df[['sadness', 'danceability', 'energy']]\n",
    ")\n",
    "\n",
    "# Check normalization\n",
    "print(music_df[['sadness', 'danceability', 'energy']].describe())"
   ]
  },
  {
   "cell_type": "code",
   "execution_count": 5,
   "metadata": {},
   "outputs": [
    {
     "name": "stdout",
     "output_type": "stream",
     "text": [
      "mood\n",
      "neutral    22868\n",
      "happy       4938\n",
      "sad          566\n",
      "Name: count, dtype: int64\n"
     ]
    }
   ],
   "source": [
    "# Cell: Mood mapping\n",
    "def assign_mood(row):\n",
    "    if row['energy'] > 0.6 and row['danceability'] > 0.6:\n",
    "        return 'happy'\n",
    "    elif row['sadness'] > 0.6:\n",
    "        return 'sad'\n",
    "    else:\n",
    "        return 'neutral'\n",
    "\n",
    "music_df['mood'] = music_df.apply(assign_mood, axis=1)\n",
    "\n",
    "# Verify\n",
    "print(music_df['mood'].value_counts())"
   ]
  },
  {
   "cell_type": "code",
   "execution_count": 10,
   "metadata": {},
   "outputs": [
    {
     "name": "stdout",
     "output_type": "stream",
     "text": [
      "Requirement already satisfied: transformers in c:\\python312\\lib\\site-packages (4.49.0)Note: you may need to restart the kernel to use updated packages.\n",
      "\n",
      "Requirement already satisfied: filelock in c:\\python312\\lib\\site-packages (from transformers) (3.18.0)\n",
      "Requirement already satisfied: huggingface-hub<1.0,>=0.26.0 in c:\\python312\\lib\\site-packages (from transformers) (0.29.3)\n",
      "Requirement already satisfied: numpy>=1.17 in c:\\python312\\lib\\site-packages (from transformers) (2.0.2)\n",
      "Requirement already satisfied: packaging>=20.0 in c:\\users\\vivek gupta\\appdata\\roaming\\python\\python312\\site-packages (from transformers) (24.1)\n",
      "Requirement already satisfied: pyyaml>=5.1 in c:\\users\\vivek gupta\\appdata\\roaming\\python\\python312\\site-packages (from transformers) (6.0.2)\n",
      "Requirement already satisfied: regex!=2019.12.17 in c:\\python312\\lib\\site-packages (from transformers) (2024.9.11)\n",
      "Requirement already satisfied: requests in c:\\users\\vivek gupta\\appdata\\roaming\\python\\python312\\site-packages (from transformers) (2.32.3)\n",
      "Requirement already satisfied: tokenizers<0.22,>=0.21 in c:\\python312\\lib\\site-packages (from transformers) (0.21.1)\n",
      "Requirement already satisfied: safetensors>=0.4.1 in c:\\python312\\lib\\site-packages (from transformers) (0.5.3)\n",
      "Requirement already satisfied: tqdm>=4.27 in c:\\python312\\lib\\site-packages (from transformers) (4.66.6)\n",
      "Requirement already satisfied: fsspec>=2023.5.0 in c:\\python312\\lib\\site-packages (from huggingface-hub<1.0,>=0.26.0->transformers) (2025.3.0)\n",
      "Requirement already satisfied: typing-extensions>=3.7.4.3 in c:\\users\\vivek gupta\\appdata\\roaming\\python\\python312\\site-packages (from huggingface-hub<1.0,>=0.26.0->transformers) (4.12.2)\n",
      "Requirement already satisfied: colorama in c:\\python312\\lib\\site-packages (from tqdm>=4.27->transformers) (0.4.6)\n",
      "Requirement already satisfied: charset-normalizer<4,>=2 in c:\\users\\vivek gupta\\appdata\\roaming\\python\\python312\\site-packages (from requests->transformers) (3.4.0)\n",
      "Requirement already satisfied: idna<4,>=2.5 in c:\\users\\vivek gupta\\appdata\\roaming\\python\\python312\\site-packages (from requests->transformers) (3.10)\n",
      "Requirement already satisfied: urllib3<3,>=1.21.1 in c:\\users\\vivek gupta\\appdata\\roaming\\python\\python312\\site-packages (from requests->transformers) (2.2.3)\n",
      "Requirement already satisfied: certifi>=2017.4.17 in c:\\users\\vivek gupta\\appdata\\roaming\\python\\python312\\site-packages (from requests->transformers) (2024.8.30)\n"
     ]
    },
    {
     "name": "stderr",
     "output_type": "stream",
     "text": [
      "WARNING: Ignoring invalid distribution ~ (c:\\Python312\\Lib\\site-packages)\n",
      "WARNING: Ignoring invalid distribution ~-p (c:\\Python312\\Lib\\site-packages)\n",
      "WARNING: Ignoring invalid distribution ~=p (c:\\Python312\\Lib\\site-packages)\n",
      "WARNING: Ignoring invalid distribution ~ip (c:\\Python312\\Lib\\site-packages)\n",
      "WARNING: Ignoring invalid distribution ~~p (c:\\Python312\\Lib\\site-packages)\n",
      "WARNING: Ignoring invalid distribution ~ (c:\\Python312\\Lib\\site-packages)\n",
      "WARNING: Ignoring invalid distribution ~-p (c:\\Python312\\Lib\\site-packages)\n",
      "WARNING: Ignoring invalid distribution ~=p (c:\\Python312\\Lib\\site-packages)\n",
      "WARNING: Ignoring invalid distribution ~ip (c:\\Python312\\Lib\\site-packages)\n",
      "WARNING: Ignoring invalid distribution ~~p (c:\\Python312\\Lib\\site-packages)\n",
      "WARNING: Ignoring invalid distribution ~ (c:\\Python312\\Lib\\site-packages)\n",
      "WARNING: Ignoring invalid distribution ~-p (c:\\Python312\\Lib\\site-packages)\n",
      "WARNING: Ignoring invalid distribution ~=p (c:\\Python312\\Lib\\site-packages)\n",
      "WARNING: Ignoring invalid distribution ~ip (c:\\Python312\\Lib\\site-packages)\n",
      "WARNING: Ignoring invalid distribution ~~p (c:\\Python312\\Lib\\site-packages)\n"
     ]
    },
    {
     "name": "stdout",
     "output_type": "stream",
     "text": [
      "Collecting torch\n",
      "  Using cached torch-2.6.0-cp312-cp312-win_amd64.whl.metadata (28 kB)\n",
      "Requirement already satisfied: filelock in c:\\python312\\lib\\site-packages (from torch) (3.18.0)\n",
      "Requirement already satisfied: typing-extensions>=4.10.0 in c:\\users\\vivek gupta\\appdata\\roaming\\python\\python312\\site-packages (from torch) (4.12.2)\n",
      "Collecting networkx (from torch)\n",
      "  Using cached networkx-3.4.2-py3-none-any.whl.metadata (6.3 kB)\n",
      "Requirement already satisfied: jinja2 in c:\\users\\vivek gupta\\appdata\\roaming\\python\\python312\\site-packages (from torch) (3.1.4)\n",
      "Requirement already satisfied: fsspec in c:\\python312\\lib\\site-packages (from torch) (2025.3.0)\n",
      "Requirement already satisfied: setuptools in c:\\users\\vivek gupta\\appdata\\roaming\\python\\python312\\site-packages (from torch) (75.3.0)\n",
      "Requirement already satisfied: sympy==1.13.1 in c:\\python312\\lib\\site-packages (from torch) (1.13.1)\n",
      "Requirement already satisfied: mpmath<1.4,>=1.1.0 in c:\\python312\\lib\\site-packages (from sympy==1.13.1->torch) (1.3.0)\n",
      "Requirement already satisfied: MarkupSafe>=2.0 in c:\\users\\vivek gupta\\appdata\\roaming\\python\\python312\\site-packages (from jinja2->torch) (3.0.2)\n",
      "Using cached torch-2.6.0-cp312-cp312-win_amd64.whl (204.1 MB)\n",
      "Using cached networkx-3.4.2-py3-none-any.whl (1.7 MB)\n",
      "Installing collected packages: networkx, torch\n",
      "Note: you may need to restart the kernel to use updated packages.\n"
     ]
    },
    {
     "name": "stderr",
     "output_type": "stream",
     "text": [
      "WARNING: Ignoring invalid distribution ~ (c:\\Python312\\Lib\\site-packages)\n",
      "WARNING: Ignoring invalid distribution ~-p (c:\\Python312\\Lib\\site-packages)\n",
      "WARNING: Ignoring invalid distribution ~=p (c:\\Python312\\Lib\\site-packages)\n",
      "WARNING: Ignoring invalid distribution ~ip (c:\\Python312\\Lib\\site-packages)\n",
      "WARNING: Ignoring invalid distribution ~~p (c:\\Python312\\Lib\\site-packages)\n",
      "WARNING: Ignoring invalid distribution ~ (c:\\Python312\\Lib\\site-packages)\n",
      "WARNING: Ignoring invalid distribution ~-p (c:\\Python312\\Lib\\site-packages)\n",
      "WARNING: Ignoring invalid distribution ~=p (c:\\Python312\\Lib\\site-packages)\n",
      "WARNING: Ignoring invalid distribution ~ip (c:\\Python312\\Lib\\site-packages)\n",
      "WARNING: Ignoring invalid distribution ~~p (c:\\Python312\\Lib\\site-packages)\n",
      "  WARNING: Failed to write executable - trying to use .deleteme logic\n",
      "ERROR: Could not install packages due to an OSError: [WinError 2] The system cannot find the file specified: 'c:\\\\Python312\\\\Scripts\\\\torchfrtrace.exe' -> 'c:\\\\Python312\\\\Scripts\\\\torchfrtrace.exe.deleteme'\n",
      "\n",
      "c:\\Python312\\Lib\\site-packages\\huggingface_hub\\file_download.py:142: UserWarning: `huggingface_hub` cache-system uses symlinks by default to efficiently store duplicated files but your machine does not support them in C:\\Users\\vivek gupta\\.cache\\huggingface\\hub\\models--bert-base-uncased. Caching files will still work but in a degraded version that might require more space on your disk. This warning can be disabled by setting the `HF_HUB_DISABLE_SYMLINKS_WARNING` environment variable. For more details, see https://huggingface.co/docs/huggingface_hub/how-to-cache#limitations.\n",
      "To support symlinks on Windows, you either need to activate Developer Mode or to run Python as an administrator. In order to activate developer mode, see this article: https://docs.microsoft.com/en-us/windows/apps/get-started/enable-your-device-for-development\n",
      "  warnings.warn(message)\n"
     ]
    },
    {
     "ename": "ImportError",
     "evalue": "\nBertModel requires the PyTorch library but it was not found in your environment. Checkout the instructions on the\ninstallation page: https://pytorch.org/get-started/locally/ and follow the ones that match your environment.\nPlease note that you may need to restart your runtime after installation.\n",
     "output_type": "error",
     "traceback": [
      "\u001b[1;31m---------------------------------------------------------------------------\u001b[0m",
      "\u001b[1;31mImportError\u001b[0m                               Traceback (most recent call last)",
      "Cell \u001b[1;32mIn[10], line 8\u001b[0m\n\u001b[0;32m      5\u001b[0m \u001b[38;5;28;01mimport\u001b[39;00m \u001b[38;5;21;01mtorch\u001b[39;00m\n\u001b[0;32m      7\u001b[0m tokenizer \u001b[38;5;241m=\u001b[39m BertTokenizer\u001b[38;5;241m.\u001b[39mfrom_pretrained(\u001b[38;5;124m'\u001b[39m\u001b[38;5;124mbert-base-uncased\u001b[39m\u001b[38;5;124m'\u001b[39m)\n\u001b[1;32m----> 8\u001b[0m model \u001b[38;5;241m=\u001b[39m \u001b[43mBertModel\u001b[49m\u001b[38;5;241;43m.\u001b[39;49m\u001b[43mfrom_pretrained\u001b[49m(\u001b[38;5;124m'\u001b[39m\u001b[38;5;124mbert-base-uncased\u001b[39m\u001b[38;5;124m'\u001b[39m)\n\u001b[0;32m     10\u001b[0m \u001b[38;5;66;03m# Function to get embeddings\u001b[39;00m\n\u001b[0;32m     11\u001b[0m \u001b[38;5;28;01mdef\u001b[39;00m \u001b[38;5;21mget_lyrics_embedding\u001b[39m(lyrics):\n",
      "File \u001b[1;32mc:\\Python312\\Lib\\site-packages\\transformers\\utils\\import_utils.py:1736\u001b[0m, in \u001b[0;36mDummyObject.__getattribute__\u001b[1;34m(cls, key)\u001b[0m\n\u001b[0;32m   1734\u001b[0m \u001b[38;5;28;01mif\u001b[39;00m key\u001b[38;5;241m.\u001b[39mstartswith(\u001b[38;5;124m\"\u001b[39m\u001b[38;5;124m_\u001b[39m\u001b[38;5;124m\"\u001b[39m) \u001b[38;5;129;01mand\u001b[39;00m key \u001b[38;5;241m!=\u001b[39m \u001b[38;5;124m\"\u001b[39m\u001b[38;5;124m_from_config\u001b[39m\u001b[38;5;124m\"\u001b[39m:\n\u001b[0;32m   1735\u001b[0m     \u001b[38;5;28;01mreturn\u001b[39;00m \u001b[38;5;28msuper\u001b[39m()\u001b[38;5;241m.\u001b[39m\u001b[38;5;21m__getattribute__\u001b[39m(key)\n\u001b[1;32m-> 1736\u001b[0m \u001b[43mrequires_backends\u001b[49m\u001b[43m(\u001b[49m\u001b[38;5;28;43mcls\u001b[39;49m\u001b[43m,\u001b[49m\u001b[43m \u001b[49m\u001b[38;5;28;43mcls\u001b[39;49m\u001b[38;5;241;43m.\u001b[39;49m\u001b[43m_backends\u001b[49m\u001b[43m)\u001b[49m\n",
      "File \u001b[1;32mc:\\Python312\\Lib\\site-packages\\transformers\\utils\\import_utils.py:1724\u001b[0m, in \u001b[0;36mrequires_backends\u001b[1;34m(obj, backends)\u001b[0m\n\u001b[0;32m   1722\u001b[0m failed \u001b[38;5;241m=\u001b[39m [msg\u001b[38;5;241m.\u001b[39mformat(name) \u001b[38;5;28;01mfor\u001b[39;00m available, msg \u001b[38;5;129;01min\u001b[39;00m checks \u001b[38;5;28;01mif\u001b[39;00m \u001b[38;5;129;01mnot\u001b[39;00m available()]\n\u001b[0;32m   1723\u001b[0m \u001b[38;5;28;01mif\u001b[39;00m failed:\n\u001b[1;32m-> 1724\u001b[0m     \u001b[38;5;28;01mraise\u001b[39;00m \u001b[38;5;167;01mImportError\u001b[39;00m(\u001b[38;5;124m\"\u001b[39m\u001b[38;5;124m\"\u001b[39m\u001b[38;5;241m.\u001b[39mjoin(failed))\n",
      "\u001b[1;31mImportError\u001b[0m: \nBertModel requires the PyTorch library but it was not found in your environment. Checkout the instructions on the\ninstallation page: https://pytorch.org/get-started/locally/ and follow the ones that match your environment.\nPlease note that you may need to restart your runtime after installation.\n"
     ]
    }
   ],
   "source": [
    "# Cell: Install and import transformers\n",
    "%pip install transformers\n",
    "%pip install torch\n",
    "from transformers import BertTokenizer, BertModel\n",
    "import torch\n",
    "\n",
    "tokenizer = BertTokenizer.from_pretrained('bert-base-uncased')\n",
    "model = BertModel.from_pretrained('bert-base-uncased')\n",
    "\n",
    "# Function to get embeddings\n",
    "def get_lyrics_embedding(lyrics):\n",
    "    inputs = tokenizer(lyrics, return_tensors='pt', truncation=True, padding=True, max_length=128)\n",
    "    with torch.no_grad():\n",
    "        outputs = model(**inputs)\n",
    "    return outputs.last_hidden_state.mean(dim=1).squeeze().numpy()\n",
    "\n",
    "# Apply to samples (Spotify and Music Dataset)\n",
    "spotify_sample = spotify_df.head(100)\n",
    "music_sample = music_df.head(100)\n",
    "\n",
    "spotify_sample['lyrics_embedding'] = spotify_sample['text'].apply(get_lyrics_embedding)\n",
    "music_sample['lyrics_embedding'] = music_sample['lyrics'].apply(get_lyrics_embedding)\n",
    "\n",
    "# Check\n",
    "print(\"Spotify embedding shape:\", spotify_sample['lyrics_embedding'].iloc[0].shape)  # Should be (768,)\n",
    "print(\"Music embedding shape:\", music_sample['lyrics_embedding'].iloc[0].shape)"
   ]
  },
  {
   "cell_type": "code",
   "execution_count": 13,
   "metadata": {},
   "outputs": [
    {
     "name": "stdout",
     "output_type": "stream",
     "text": [
      "Collecting torchNote: you may need to restart the kernel to use updated packages.\n",
      "\n",
      "  Using cached torch-2.6.0-cp312-cp312-win_amd64.whl.metadata (28 kB)\n",
      "Requirement already satisfied: filelock in c:\\python312\\lib\\site-packages (from torch) (3.18.0)\n",
      "Requirement already satisfied: typing-extensions>=4.10.0 in c:\\users\\vivek gupta\\appdata\\roaming\\python\\python312\\site-packages (from torch) (4.12.2)\n",
      "Requirement already satisfied: networkx in c:\\python312\\lib\\site-packages (from torch) (3.4.2)\n",
      "Requirement already satisfied: jinja2 in c:\\users\\vivek gupta\\appdata\\roaming\\python\\python312\\site-packages (from torch) (3.1.4)\n",
      "Requirement already satisfied: fsspec in c:\\python312\\lib\\site-packages (from torch) (2025.3.0)\n",
      "Requirement already satisfied: setuptools in c:\\users\\vivek gupta\\appdata\\roaming\\python\\python312\\site-packages (from torch) (75.3.0)\n",
      "Requirement already satisfied: sympy==1.13.1 in c:\\python312\\lib\\site-packages (from torch) (1.13.1)\n",
      "Requirement already satisfied: mpmath<1.4,>=1.1.0 in c:\\python312\\lib\\site-packages (from sympy==1.13.1->torch) (1.3.0)\n",
      "Requirement already satisfied: MarkupSafe>=2.0 in c:\\users\\vivek gupta\\appdata\\roaming\\python\\python312\\site-packages (from jinja2->torch) (3.0.2)\n",
      "Using cached torch-2.6.0-cp312-cp312-win_amd64.whl (204.1 MB)\n",
      "Installing collected packages: torch\n"
     ]
    },
    {
     "name": "stderr",
     "output_type": "stream",
     "text": [
      "WARNING: Ignoring invalid distribution ~ (c:\\Python312\\Lib\\site-packages)\n",
      "WARNING: Ignoring invalid distribution ~-p (c:\\Python312\\Lib\\site-packages)\n",
      "WARNING: Ignoring invalid distribution ~=p (c:\\Python312\\Lib\\site-packages)\n",
      "WARNING: Ignoring invalid distribution ~ip (c:\\Python312\\Lib\\site-packages)\n",
      "WARNING: Ignoring invalid distribution ~~p (c:\\Python312\\Lib\\site-packages)\n",
      "WARNING: Ignoring invalid distribution ~ (c:\\Python312\\Lib\\site-packages)\n",
      "WARNING: Ignoring invalid distribution ~-p (c:\\Python312\\Lib\\site-packages)\n",
      "WARNING: Ignoring invalid distribution ~=p (c:\\Python312\\Lib\\site-packages)\n",
      "WARNING: Ignoring invalid distribution ~ip (c:\\Python312\\Lib\\site-packages)\n",
      "WARNING: Ignoring invalid distribution ~~p (c:\\Python312\\Lib\\site-packages)\n",
      "  WARNING: Failed to write executable - trying to use .deleteme logic\n",
      "ERROR: Could not install packages due to an OSError: [WinError 2] The system cannot find the file specified: 'c:\\\\Python312\\\\Scripts\\\\torchfrtrace.exe' -> 'c:\\\\Python312\\\\Scripts\\\\torchfrtrace.exe.deleteme'\n",
      "\n"
     ]
    }
   ],
   "source": [
    "\n",
    "pip install torch"
   ]
  },
  {
   "cell_type": "code",
   "execution_count": 17,
   "metadata": {},
   "outputs": [
    {
     "name": "stdout",
     "output_type": "stream",
     "text": [
      "2.6.0+cpu\n"
     ]
    }
   ],
   "source": [
    "import torch\n",
    "print(torch.__version__)\n"
   ]
  },
  {
   "cell_type": "code",
   "execution_count": 1,
   "metadata": {},
   "outputs": [
    {
     "name": "stdout",
     "output_type": "stream",
     "text": [
      "PyTorch installed successfully: 2.6.0+cpu\n"
     ]
    }
   ],
   "source": [
    "import torch\n",
    "print(\"PyTorch installed successfully:\", torch.__version__)"
   ]
  },
  {
   "cell_type": "code",
   "execution_count": 4,
   "metadata": {},
   "outputs": [
    {
     "name": "stdout",
     "output_type": "stream",
     "text": [
      "Note: you may need to restart the kernel to use updated packages.\n"
     ]
    },
    {
     "name": "stderr",
     "output_type": "stream",
     "text": [
      "ERROR: Invalid requirement: '#': Expected package name at the start of dependency specifier\n",
      "    #\n",
      "    ^\n",
      "ERROR: Invalid requirement: '#': Expected package name at the start of dependency specifier\n",
      "    #\n",
      "    ^\n"
     ]
    },
    {
     "name": "stdout",
     "output_type": "stream",
     "text": [
      "Note: you may need to restart the kernel to use updated packages.\n"
     ]
    },
    {
     "name": "stderr",
     "output_type": "stream",
     "text": [
      "C:\\Users\\vivek gupta\\AppData\\Local\\Temp\\ipykernel_21476\\2294490354.py:22: SettingWithCopyWarning: \n",
      "A value is trying to be set on a copy of a slice from a DataFrame.\n",
      "Try using .loc[row_indexer,col_indexer] = value instead\n",
      "\n",
      "See the caveats in the documentation: https://pandas.pydata.org/pandas-docs/stable/user_guide/indexing.html#returning-a-view-versus-a-copy\n",
      "  spotify_sample['lyrics_embedding'] = spotify_sample['text'].apply(get_lyrics_embedding)\n"
     ]
    },
    {
     "name": "stdout",
     "output_type": "stream",
     "text": [
      "Spotify embedding shape: (768,)\n",
      "Music embedding shape: (768,)\n"
     ]
    },
    {
     "name": "stderr",
     "output_type": "stream",
     "text": [
      "C:\\Users\\vivek gupta\\AppData\\Local\\Temp\\ipykernel_21476\\2294490354.py:23: SettingWithCopyWarning: \n",
      "A value is trying to be set on a copy of a slice from a DataFrame.\n",
      "Try using .loc[row_indexer,col_indexer] = value instead\n",
      "\n",
      "See the caveats in the documentation: https://pandas.pydata.org/pandas-docs/stable/user_guide/indexing.html#returning-a-view-versus-a-copy\n",
      "  music_sample['lyrics_embedding'] = music_sample['lyrics'].apply(get_lyrics_embedding)\n"
     ]
    }
   ],
   "source": [
    "# Cell: Install and import transformers\n",
    "%pip install transformers  # Only needed once\n",
    "%pip install torch         # Should be installed now\n",
    "from transformers import BertTokenizer, BertModel\n",
    "import torch\n",
    "\n",
    "# Initialize BERT\n",
    "tokenizer = BertTokenizer.from_pretrained('bert-base-uncased')\n",
    "model = BertModel.from_pretrained('bert-base-uncased')\n",
    "\n",
    "# Function to get embeddings\n",
    "def get_lyrics_embedding(lyrics):\n",
    "    inputs = tokenizer(lyrics, return_tensors='pt', truncation=True, padding=True, max_length=128)\n",
    "    with torch.no_grad():\n",
    "        outputs = model(**inputs)\n",
    "    return outputs.last_hidden_state.mean(dim=1).squeeze().numpy()\n",
    "\n",
    "# Apply to samples (Spotify and Music Dataset)\n",
    "spotify_sample = spotify_df.head(100)\n",
    "music_sample = music_df.head(100)\n",
    "\n",
    "spotify_sample['lyrics_embedding'] = spotify_sample['text'].apply(get_lyrics_embedding)\n",
    "music_sample['lyrics_embedding'] = music_sample['lyrics'].apply(get_lyrics_embedding)\n",
    "\n",
    "# Check\n",
    "print(\"Spotify embedding shape:\", spotify_sample['lyrics_embedding'].iloc[0].shape)  # Should be (768,)\n",
    "print(\"Music embedding shape:\", music_sample['lyrics_embedding'].iloc[0].shape)"
   ]
  },
  {
   "cell_type": "code",
   "execution_count": 5,
   "metadata": {},
   "outputs": [
    {
     "name": "stdout",
     "output_type": "stream",
     "text": [
      "Data saved successfully!\n"
     ]
    }
   ],
   "source": [
    "# Cell 3: Save processed data\n",
    "spotify_sample.to_pickle('spotify_processed.pkl')\n",
    "music_sample.to_pickle('music_processed.pkl')\n",
    "print(\"Data saved successfully!\")"
   ]
  },
  {
   "cell_type": "code",
   "execution_count": 6,
   "metadata": {},
   "outputs": [
    {
     "name": "stdout",
     "output_type": "stream",
     "text": [
      "Mido installed!\n"
     ]
    }
   ],
   "source": [
    "import mido\n",
    "print(\"Mido installed!\")"
   ]
  },
  {
   "cell_type": "code",
   "execution_count": 7,
   "metadata": {},
   "outputs": [
    {
     "name": "stdout",
     "output_type": "stream",
     "text": [
      "Updated music_processed.pkl saved with 'mood' column!\n"
     ]
    },
    {
     "name": "stderr",
     "output_type": "stream",
     "text": [
      "C:\\Users\\vivek gupta\\AppData\\Local\\Temp\\ipykernel_21476\\3026568788.py:45: SettingWithCopyWarning: \n",
      "A value is trying to be set on a copy of a slice from a DataFrame.\n",
      "Try using .loc[row_indexer,col_indexer] = value instead\n",
      "\n",
      "See the caveats in the documentation: https://pandas.pydata.org/pandas-docs/stable/user_guide/indexing.html#returning-a-view-versus-a-copy\n",
      "  music_sample['lyrics_embedding'] = music_sample['lyrics'].apply(get_lyrics_embedding)\n"
     ]
    }
   ],
   "source": [
    "import pandas as pd\n",
    "import re\n",
    "from sklearn.preprocessing import MinMaxScaler\n",
    "from transformers import BertTokenizer, BertModel\n",
    "import torch\n",
    "import numpy as np\n",
    "\n",
    "# Load original dataset\n",
    "music_df = pd.read_csv('tcc_ceds_music.csv')  # Update path\n",
    "\n",
    "# Clean lyrics\n",
    "def clean_lyrics(text):\n",
    "    return re.sub(r'[^a-zA-Z\\s]', '', str(text).lower()).strip()\n",
    "\n",
    "music_df['lyrics'] = music_df['lyrics'].apply(clean_lyrics)\n",
    "\n",
    "# Normalize features\n",
    "scaler = MinMaxScaler()\n",
    "music_df[['sadness', 'danceability', 'energy']] = scaler.fit_transform(\n",
    "    music_df[['sadness', 'danceability', 'energy']]\n",
    ")\n",
    "\n",
    "# Map features to mood\n",
    "def assign_mood(row):\n",
    "    if row['energy'] > 0.6 and row['danceability'] > 0.6:\n",
    "        return 'happy'\n",
    "    elif row['sadness'] > 0.6:\n",
    "        return 'sad'\n",
    "    else:\n",
    "        return 'neutral'\n",
    "\n",
    "music_df['mood'] = music_df.apply(assign_mood, axis=1)\n",
    "\n",
    "# Generate lyrics embeddings (sample 100)\n",
    "tokenizer = BertTokenizer.from_pretrained('bert-base-uncased')\n",
    "model = BertModel.from_pretrained('bert-base-uncased')\n",
    "\n",
    "def get_lyrics_embedding(lyrics):\n",
    "    inputs = tokenizer(lyrics, return_tensors='pt', truncation=True, padding=True, max_length=128)\n",
    "    with torch.no_grad():\n",
    "        outputs = model(**inputs)\n",
    "    return outputs.last_hidden_state.mean(dim=1).squeeze().numpy()\n",
    "\n",
    "music_sample = music_df.head(100)\n",
    "music_sample['lyrics_embedding'] = music_sample['lyrics'].apply(get_lyrics_embedding)\n",
    "\n",
    "# Save with mood column\n",
    "music_sample.to_pickle('C:/Users/vivek gupta/OneDrive/Desktop/musicVae/music_processed.pkl')\n",
    "print(\"Updated music_processed.pkl saved with 'mood' column!\")"
   ]
  },
  {
   "cell_type": "code",
   "execution_count": 8,
   "metadata": {},
   "outputs": [
    {
     "name": "stdout",
     "output_type": "stream",
     "text": [
      "Index(['Unnamed: 0', 'artist_name', 'track_name', 'release_date', 'genre',\n",
      "       'lyrics', 'len', 'dating', 'violence', 'world/life', 'night/time',\n",
      "       'shake the audience', 'family/gospel', 'romantic', 'communication',\n",
      "       'obscene', 'music', 'movement/places', 'light/visual perceptions',\n",
      "       'family/spiritual', 'like/girls', 'sadness', 'feelings', 'danceability',\n",
      "       'loudness', 'acousticness', 'instrumentalness', 'valence', 'energy',\n",
      "       'topic', 'age', 'mood', 'lyrics_embedding'],\n",
      "      dtype='object')\n",
      "0    neutral\n",
      "1    neutral\n",
      "2    neutral\n",
      "3      happy\n",
      "4    neutral\n",
      "Name: mood, dtype: object\n"
     ]
    }
   ],
   "source": [
    "df = pd.read_pickle('C:/Users/vivek gupta/OneDrive/Desktop/musicVae/music_processed.pkl')\n",
    "print(df.columns)  # Should include 'mood'\n",
    "print(df['mood'].head())"
   ]
  },
  {
   "cell_type": "code",
   "execution_count": null,
   "metadata": {},
   "outputs": [],
   "source": []
  }
 ],
 "metadata": {
  "kernelspec": {
   "display_name": "Python 3",
   "language": "python",
   "name": "python3"
  },
  "language_info": {
   "codemirror_mode": {
    "name": "ipython",
    "version": 3
   },
   "file_extension": ".py",
   "mimetype": "text/x-python",
   "name": "python",
   "nbconvert_exporter": "python",
   "pygments_lexer": "ipython3",
   "version": "3.12.1"
  }
 },
 "nbformat": 4,
 "nbformat_minor": 2
}
